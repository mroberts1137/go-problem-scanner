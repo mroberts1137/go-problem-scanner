{
 "cells": [
  {
   "cell_type": "code",
   "execution_count": 2,
   "id": "eeaccb3a-c794-4f27-88a0-24a28e4939a2",
   "metadata": {},
   "outputs": [
    {
     "ename": "ModuleNotFoundError",
     "evalue": "No module named 'matplotlib'",
     "output_type": "error",
     "traceback": [
      "\u001b[31m---------------------------------------------------------------------------\u001b[39m",
      "\u001b[31mModuleNotFoundError\u001b[39m                       Traceback (most recent call last)",
      "\u001b[36mCell\u001b[39m\u001b[36m \u001b[39m\u001b[32mIn[2]\u001b[39m\u001b[32m, line 2\u001b[39m\n\u001b[32m      1\u001b[39m \u001b[38;5;28;01mimport\u001b[39;00m\u001b[38;5;250m \u001b[39m\u001b[34;01mnumpy\u001b[39;00m\u001b[38;5;250m \u001b[39m\u001b[38;5;28;01mas\u001b[39;00m\u001b[38;5;250m \u001b[39m\u001b[34;01mnp\u001b[39;00m\n\u001b[32m----> \u001b[39m\u001b[32m2\u001b[39m \u001b[38;5;28;01mimport\u001b[39;00m\u001b[38;5;250m \u001b[39m\u001b[34;01mmatplotlib\u001b[39;00m\u001b[34;01m.\u001b[39;00m\u001b[34;01mpyplot\u001b[39;00m\u001b[38;5;250m \u001b[39m\u001b[38;5;28;01mas\u001b[39;00m\u001b[38;5;250m \u001b[39m\u001b[34;01mplt\u001b[39;00m\n",
      "\u001b[31mModuleNotFoundError\u001b[39m: No module named 'matplotlib'"
     ]
    }
   ],
   "source": [
    "import numpy as np\n",
    "import matplotlib.pyplot as plt"
   ]
  },
  {
   "cell_type": "code",
   "execution_count": 3,
   "id": "66d3d464-bf5a-41fd-8217-5799d8c93ab7",
   "metadata": {},
   "outputs": [
    {
     "ename": "SyntaxError",
     "evalue": "leading zeros in decimal integer literals are not permitted; use an 0o prefix for octal integers (2625880911.py, line 3)",
     "output_type": "error",
     "traceback": [
      "  \u001b[36mCell\u001b[39m\u001b[36m \u001b[39m\u001b[32mIn[3]\u001b[39m\u001b[32m, line 3\u001b[39m\n\u001b[31m    \u001b[39m\u001b[31m09), np.int32(52)): 75.93333333333334, (np.int32(456), np.int32(52)): 77.63333333333334, (np.int32(503), np.int32(52)): 76.5, (np.int32(550), np.int32(52)): 47.88333333333333, (np.int32(8\u001b[39m\n    ^\n\u001b[31mSyntaxError\u001b[39m\u001b[31m:\u001b[39m leading zeros in decimal integer literals are not permitted; use an 0o prefix for octal integers\n"
     ]
    }
   ],
   "source": [
    "data = {(np.int32(80), np.int32(52)): 73.66666666666667, (np.int32(127), np.int32(52)): 75.36666666666666, (np.int32(174), np.int32(52)): 75.36666666666666, (np.int32(2\n",
    "21), np.int32(52)): 74.8, (np.int32(268), np.int32(52)): 73.66666666666667, (np.int32(315), np.int32(52)): 77.63333333333334, (np.int32(362), np.int32(52)): 78.76666666666667, (np.int32(4\n",
    "09), np.int32(52)): 75.93333333333334, (np.int32(456), np.int32(52)): 77.63333333333334, (np.int32(503), np.int32(52)): 76.5, (np.int32(550), np.int32(52)): 47.88333333333333, (np.int32(8\n",
    "0), np.int32(104)): 77.35, (np.int32(127), np.int32(104)): 79.9, (np.int32(174), np.int32(104)): 81.88333333333334, (np.int32(221), np.int32(104)): 74.8, (np.int32(268), np.int32(104)): 5\n",
    ".383333333333334, (np.int32(315), np.int32(104)): 255.0, (np.int32(362), np.int32(104)): 80.18333333333334, (np.int32(409), np.int32(104)): 81.6, (np.int32(456), np.int32(104)): 79.333333\n",
    "33333333, (np.int32(503), np.int32(104)): 79.05, (np.int32(550), np.int32(104)): 73.95, (np.int32(80), np.int32(156)): 255.0, (np.int32(127), np.int32(156)): 81.31666666666666, (np.int32(\n",
    "174), np.int32(156)): 76.21666666666667, (np.int32(221), np.int32(156)): 255.0, (np.int32(268), np.int32(156)): 78.2, (np.int32(315), np.int32(156)): 5.1, (np.int32(362), np.int32(156)):\n",
    "255.0, (np.int32(409), np.int32(156)): 255.0, (np.int32(456), np.int32(156)): 5.666666666666667, (np.int32(503), np.int32(156)): 76.78333333333333, (np.int32(550), np.int32(156)): 69.4166\n",
    "6666666667, (np.int32(80), np.int32(208)): 73.66666666666667, (np.int32(127), np.int32(208)): 94.91666666666667, (np.int32(174), np.int32(208)): 77.06666666666666, (np.int32(221), np.int3\n",
    "2(208)): 82.45, (np.int32(268), np.int32(208)): 72.53333333333333, (np.int32(315), np.int32(208)): 4.25, (np.int32(362), np.int32(208)): 75.65, (np.int32(409), np.int32(208)): 94.35, (np.\n",
    "int32(456), np.int32(208)): 4.25, (np.int32(503), np.int32(208)): 71.68333333333334, (np.int32(550), np.int32(208)): 73.66666666666667, (np.int32(80), np.int32(260)): 82.16666666666667, (\n",
    "np.int32(127), np.int32(260)): 79.33333333333333, (np.int32(174), np.int32(260)): 87.55, (np.int32(221), np.int32(260)): 69.41666666666667, (np.int32(268), np.int32(260)): 82.45, (np.int3\n",
    "2(315), np.int32(260)): 78.2, (np.int32(362), np.int32(260)): 76.21666666666667, (np.int32(409), np.int32(260)): 80.18333333333334, (np.int32(456), np.int32(260)): 74.23333333333333, (np.\n",
    "int32(503), np.int32(260)): 84.43333333333334, (np.int32(550), np.int32(260)): 67.71666666666667, (np.int32(80), np.int32(312)): 83.3, (np.int32(127), np.int32(312)): 79.61666666666666, (\n",
    "np.int32(174), np.int32(312)): 80.46666666666667, (np.int32(221), np.int32(312)): 82.45, (np.int32(268), np.int32(312)): 73.95, (np.int32(315), np.int32(312)): 84.43333333333334, (np.int3\n",
    "2(362), np.int32(312)): 80.18333333333334, (np.int32(409), np.int32(312)): 77.63333333333334, (np.int32(456), np.int32(312)): 81.31666666666666, (np.int32(503), np.int32(312)): 76.5, (np.\n",
    "int32(550), np.int32(312)): 71.68333333333334, (np.int32(80), np.int32(364)): 77.63333333333334, (np.int32(127), np.int32(364)): 80.75, (np.int32(174), np.int32(364)): 78.2, (np.int32(221\n",
    "), np.int32(364)): 79.9, (np.int32(268), np.int32(364)): 81.31666666666666, (np.int32(315), np.int32(364)): 79.61666666666666, (np.int32(362), np.int32(364)): 80.46666666666667, (np.int32\n",
    "(409), np.int32(364)): 81.03333333333333, (np.int32(456), np.int32(364)): 3.1166666666666667, (np.int32(503), np.int32(364)): 85.28333333333333, (np.int32(550), np.int32(364)): 71.4, (np.\n",
    "int32(80), np.int32(416)): 82.73333333333333, (np.int32(127), np.int32(416)): 77.91666666666667, (np.int32(174), np.int32(416)): 77.06666666666666, (np.int32(221), np.int32(416)): 81.0333\n",
    "3333333333, (np.int32(268), np.int32(416)): 82.16666666666667, (np.int32(315), np.int32(416)): 76.5, (np.int32(362), np.int32(416)): 80.75, (np.int32(409), np.int32(416)): 79.616666666666\n",
    "66, (np.int32(456), np.int32(416)): 81.03333333333333, (np.int32(503), np.int32(416)): 85.28333333333333, (np.int32(550), np.int32(416)): 73.38333333333334, (np.int32(80), np.int32(468)):\n",
    " 84.71666666666667, (np.int32(127), np.int32(468)): 84.71666666666667, (np.int32(174), np.int32(468)): 74.51666666666667, (np.int32(221), np.int32(468)): 84.71666666666667, (np.int32(268)\n",
    ", np.int32(468)): 76.5, (np.int32(315), np.int32(468)): 84.43333333333334, (np.int32(362), np.int32(468)): 81.6, (np.int32(409), np.int32(468)): 76.78333333333333, (np.int32(456), np.int3\n",
    "2(468)): 82.45, (np.int32(503), np.int32(468)): 73.95, (np.int32(550), np.int32(468)): 74.51666666666667, (np.int32(80), np.int32(520)): 74.8, (np.int32(127), np.int32(520)): 98.033333333\n",
    "33333, (np.int32(174), np.int32(520)): 82.45, (np.int32(221), np.int32(520)): 70.55, (np.int32(268), np.int32(520)): 79.61666666666666, (np.int32(315), np.int32(520)): 74.8, (np.int32(362\n",
    "), np.int32(520)): 79.61666666666666, (np.int32(409), np.int32(520)): 98.6, (np.int32(456), np.int32(520)): 77.91666666666667, (np.int32(503), np.int32(520)): 82.16666666666667, (np.int32\n",
    "(550), np.int32(520)): 72.25}\n"
   ]
  },
  {
   "cell_type": "code",
   "execution_count": 5,
   "id": "5538cddf-1e20-477a-ab30-4006d46f0860",
   "metadata": {},
   "outputs": [],
   "source": [
    "def plot_intensity_histogram(intensity_bins):\n",
    "    \"\"\"Plot histogram of average intensities.\"\"\"\n",
    "    if not intensity_bins:\n",
    "        logger.warning(\"No intensity data to plot.\")\n",
    "        return\n",
    "\n",
    "    values = list(intensity_bins.values())\n",
    "\n",
    "    plt.figure(figsize=(8, 5))\n",
    "    plt.hist(values, bins=30, color='skyblue', edgecolor='black')\n",
    "    plt.title(\"Histogram of Average Intensities at Grid Points\")\n",
    "    plt.xlabel(\"Average Intensity\")\n",
    "    plt.ylabel(\"Frequency\")\n",
    "    plt.grid(True)\n",
    "    plt.tight_layout()\n",
    "    plt.show()"
   ]
  },
  {
   "cell_type": "code",
   "execution_count": 6,
   "id": "b9ba811c-71e3-4ebc-bf54-39ab7c4b8e8c",
   "metadata": {},
   "outputs": [
    {
     "ename": "NameError",
     "evalue": "name 'data' is not defined",
     "output_type": "error",
     "traceback": [
      "\u001b[31m---------------------------------------------------------------------------\u001b[39m",
      "\u001b[31mNameError\u001b[39m                                 Traceback (most recent call last)",
      "\u001b[36mCell\u001b[39m\u001b[36m \u001b[39m\u001b[32mIn[6]\u001b[39m\u001b[32m, line 1\u001b[39m\n\u001b[32m----> \u001b[39m\u001b[32m1\u001b[39m plot_intensity_histogram(\u001b[43mdata\u001b[49m)\n",
      "\u001b[31mNameError\u001b[39m: name 'data' is not defined"
     ]
    }
   ],
   "source": [
    "plot_intensity_histogram(data)"
   ]
  },
  {
   "cell_type": "code",
   "execution_count": null,
   "id": "d686df34-0168-4e25-88c6-02c3747e14e4",
   "metadata": {},
   "outputs": [],
   "source": []
  }
 ],
 "metadata": {
  "kernelspec": {
   "display_name": "Python 3 (ipykernel)",
   "language": "python",
   "name": "python3"
  },
  "language_info": {
   "codemirror_mode": {
    "name": "ipython",
    "version": 3
   },
   "file_extension": ".py",
   "mimetype": "text/x-python",
   "name": "python",
   "nbconvert_exporter": "python",
   "pygments_lexer": "ipython3",
   "version": "3.12.8"
  }
 },
 "nbformat": 4,
 "nbformat_minor": 5
}
